{
 "cells": [
  {
   "cell_type": "code",
   "execution_count": 5,
   "id": "9acce50e-2c5b-48ed-a955-018e2954024f",
   "metadata": {},
   "outputs": [],
   "source": [
    "from download_data import DataDownloader as dd"
   ]
  },
  {
   "cell_type": "code",
   "execution_count": 6,
   "id": "c7cb4f73-bf9f-4ca9-a4af-a88e05a1dcb5",
   "metadata": {},
   "outputs": [],
   "source": [
    "dd = dd()"
   ]
  },
  {
   "cell_type": "code",
   "execution_count": null,
   "id": "d96ae155-5221-48e7-b958-44c5d545ba0f",
   "metadata": {},
   "outputs": [],
   "source": [
    "dd.main()"
   ]
  }
 ],
 "metadata": {
  "kernelspec": {
   "display_name": "Python 3 (ipykernel)",
   "language": "python",
   "name": "python3"
  },
  "language_info": {
   "codemirror_mode": {
    "name": "ipython",
    "version": 3
   },
   "file_extension": ".py",
   "mimetype": "text/x-python",
   "name": "python",
   "nbconvert_exporter": "python",
   "pygments_lexer": "ipython3",
   "version": "3.11.7"
  }
 },
 "nbformat": 4,
 "nbformat_minor": 5
}
