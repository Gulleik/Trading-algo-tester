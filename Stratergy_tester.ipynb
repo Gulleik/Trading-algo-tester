{
 "cells": [
  {
   "cell_type": "code",
   "execution_count": 1,
   "id": "6b355259-1a3b-4381-b595-53c23fefd071",
   "metadata": {},
   "outputs": [],
   "source": [
    "import pandas as pd"
   ]
  },
  {
   "cell_type": "code",
   "execution_count": 2,
   "id": "89398910-4331-473e-a575-7550d687c728",
   "metadata": {},
   "outputs": [],
   "source": [
    "BTC_15 = pd.read_csv(\"data/data/ohlcv/BTCUSDT_15m_20170208_20250830.csv\")\n",
    "ETH_15 = pd.read_csv(\"data/data/ohlcv/ETHUSDT_15m_20170208_20250830.csv\")"
   ]
  },
  {
   "cell_type": "code",
   "execution_count": 3,
   "id": "39ceea47-48f8-411e-9a43-c871cc9cc73b",
   "metadata": {},
   "outputs": [],
   "source": [
    "df = BTC_15.copy()\n",
    "df = df[df[\"timestamp\"] >= \"2025-05-03\"]"
   ]
  },
  {
   "cell_type": "code",
   "execution_count": 4,
   "id": "ff512f72-7e2f-49d6-aa68-10cfaadc5ea5",
   "metadata": {},
   "outputs": [
    {
     "name": "stdout",
     "output_type": "stream",
     "text": [
      "Train size: 11473\n",
      "Test size: 0\n"
     ]
    }
   ],
   "source": [
    "# Calculate the split index\n",
    "split_idx = int(len(df) * 1)  # first 60% train, last 40% test\n",
    "\n",
    "# Split into train/test\n",
    "train = df.iloc[:split_idx]\n",
    "test  = df.iloc[split_idx:]\n",
    "\n",
    "print(\"Train size:\", len(train))\n",
    "print(\"Test size:\", len(test))"
   ]
  },
  {
   "cell_type": "code",
   "execution_count": 5,
   "id": "0a8d0866-dc85-4333-a451-34ca5926b370",
   "metadata": {},
   "outputs": [],
   "source": [
    "from Trading_algos.strategy_tester import StrategyTester"
   ]
  },
  {
   "cell_type": "code",
   "execution_count": 6,
   "id": "d8945042-8696-4548-bc7a-b1b7650b33f4",
   "metadata": {},
   "outputs": [],
   "source": [
    "tester = StrategyTester(initial_capital=10000)"
   ]
  },
  {
   "cell_type": "code",
   "execution_count": 7,
   "id": "c214dce7-7fcc-440b-8c83-6a1e99363e16",
   "metadata": {},
   "outputs": [
    {
     "name": "stdout",
     "output_type": "stream",
     "text": [
      "Starting backtest for FibonacciChannelStrategy\n",
      "Data period: 2025-05-03 00:00:00+00:00 to 2025-08-30 12:00:00+00:00\n",
      "Data points: 11473\n",
      "Generating trading signals...\n",
      "Signals — long: 29 short: 30\n",
      "First long idx: [364, 1038, 1221] First short idx: [0, 921, 1164]\n",
      "Running backtest simulation...\n"
     ]
    },
    {
     "name": "stderr",
     "output_type": "stream",
     "text": [
      "Backtesting: 100%|████████████████| 11473/11473 [00:08<00:00, 1409.27bars/s, Trades=47, Capital=$13,840, Position=FLAT]"
     ]
    },
    {
     "name": "stdout",
     "output_type": "stream",
     "text": [
      "Calculating performance metrics...\n",
      "\n",
      "🎯 BACKTEST COMPLETED SUCCESSFULLY!\n",
      "   Strategy: FibonacciChannelStrategy\n",
      "   Total Trades: 47\n",
      "   Final Return: 38.40%\n",
      "   Final Capital: $13,839.65\n",
      "   Win Rate: 72.34%\n",
      "   Profit Factor: 3.76\n",
      "   Max Drawdown: 3.87%\n",
      "   Sharpe Ratio: 0.186\n",
      "   Risk:Reward: 1.44\n",
      "   Market Exposure: 727.74%\n",
      "   Total Fees: $885.80\n",
      "\n",
      "💡 Use display_comprehensive_metrics('FibonacciChannelStrategy') for detailed analysis\n"
     ]
    },
    {
     "name": "stderr",
     "output_type": "stream",
     "text": [
      "\n"
     ]
    }
   ],
   "source": [
    "results = tester.run_backtest(\n",
    "                            'FibonacciChannelStrategy',\n",
    "                            train,\n",
    "                            sensitivity=18,\n",
    "                            leverage=1.0,\n",
    "                            sl_percent=0,         # 1% adjustment to fib levels\n",
    "                            fixed_stop=False,       # Use fib_786 (long) / fib_236 (short)\n",
    "                            break_even_after_tp=1,  # Move to breakeven after TP2 hit\n",
    "                            use_take_profits=True,\n",
    "                            tp1_pct=1, tp1_close=40.0,\n",
    "                            tp2_pct=2, tp2_close=30.0,\n",
    "                            tp3_pct=3, tp3_close=20.0,\n",
    "                            tp4_pct=4, tp4_close=10.0,\n",
    "                            # Risk\n",
    "                            risk_per_trade=0.015,   # 1.5% risk per trade\n",
    "                            verbose=True\n",
    "                        )"
   ]
  },
  {
   "cell_type": "code",
   "execution_count": 8,
   "id": "5dc18580-2487-4d5a-b570-8dd800e0080b",
   "metadata": {},
   "outputs": [
    {
     "name": "stdout",
     "output_type": "stream",
     "text": [
      "\n",
      "📊 COMPREHENSIVE METRICS TABLE FOR FIBONACCICHANNELSTRATEGY\n",
      "====================================================================================================\n",
      "\n",
      "PERFORMANCE:\n",
      "--------------------------------------------------\n",
      "  Total Return        : 38.40%\n",
      "  Final Capital       : $13,839.65\n",
      "  Total Trades        : 47\n",
      "  Win Rate            : 25.53%\n",
      "  Profit Factor       : 0.42\n",
      "  Risk:Reward         : 0.45\n",
      "\n",
      "RISK METRICS:\n",
      "--------------------------------------------------\n",
      "  Max Drawdown        : 3.87%\n",
      "  Sharpe Ratio        : 0.186\n",
      "  Sortino Ratio       : 0.483\n",
      "  Calmar Ratio        : 4612.910\n",
      "  Volatility          : 313.99%\n",
      "  VaR (95%)           : -1.14%\n",
      "\n",
      "TRADE ANALYSIS:\n",
      "--------------------------------------------------\n",
      "  Avg Win             : $63.36\n",
      "  Avg Loss            : $139.91\n",
      "  Largest Win         : $281.94\n",
      "  Largest Loss        : $-201.69\n",
      "  Max Consec Losses   : 3\n",
      "  Max Consec Wins     : 7\n",
      "\n",
      "STRATEGY BEHAVIOR:\n",
      "--------------------------------------------------\n",
      "  Trades/Day          : 0.40\n",
      "  Avg Hold Time       : 31.06h\n",
      "  Market Exposure     : 727.74%\n",
      "  Break-even          : 6.57%\n",
      "  Total Fees          : $656.74\n",
      "  Fees %              : 474.53%\n",
      "\n",
      "====================================================================================================\n"
     ]
    }
   ],
   "source": [
    "# Cell 4: View detailed metrics\n",
    "tester.display_comprehensive_metrics('FibonacciChannelStrategy')\n",
    "\n",
    "# Cell 5: Plot results\n",
    "#tester.plot_results('SimpleMAStrategy', results, show_plot=True)"
   ]
  },
  {
   "cell_type": "code",
   "execution_count": null,
   "id": "8abcf644-3097-4d35-8407-72360deb5c57",
   "metadata": {},
   "outputs": [],
   "source": []
  }
 ],
 "metadata": {
  "kernelspec": {
   "display_name": "Python 3 (ipykernel)",
   "language": "python",
   "name": "python3"
  },
  "language_info": {
   "codemirror_mode": {
    "name": "ipython",
    "version": 3
   },
   "file_extension": ".py",
   "mimetype": "text/x-python",
   "name": "python",
   "nbconvert_exporter": "python",
   "pygments_lexer": "ipython3",
   "version": "3.11.7"
  }
 },
 "nbformat": 4,
 "nbformat_minor": 5
}
