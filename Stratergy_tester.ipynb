{
 "cells": [
  {
   "cell_type": "code",
   "execution_count": 1,
   "id": "6b355259-1a3b-4381-b595-53c23fefd071",
   "metadata": {},
   "outputs": [],
   "source": [
    "import pandas as pd"
   ]
  },
  {
   "cell_type": "code",
   "execution_count": 6,
   "id": "89398910-4331-473e-a575-7550d687c728",
   "metadata": {},
   "outputs": [],
   "source": [
    "BTC_15 = pd.read_csv(\"data/data/ohlcv/BTCUSDT_15m_20170208_20250830.csv\")\n",
    "ETH_15 = pd.read_csv(\"data/data/ohlcv/ETHUSDT_15m_20170208_20250830.csv\")"
   ]
  },
  {
   "cell_type": "code",
   "execution_count": 8,
   "id": "39ceea47-48f8-411e-9a43-c871cc9cc73b",
   "metadata": {},
   "outputs": [],
   "source": [
    "df = BTC_15.copy()"
   ]
  },
  {
   "cell_type": "code",
   "execution_count": 9,
   "id": "ff512f72-7e2f-49d6-aa68-10cfaadc5ea5",
   "metadata": {},
   "outputs": [
    {
     "name": "stdout",
     "output_type": "stream",
     "text": [
      "Train size: 114282\n",
      "Test size: 76189\n"
     ]
    }
   ],
   "source": [
    "# Calculate the split index\n",
    "split_idx = int(len(df) * 0.6)  # first 60% train, last 40% test\n",
    "\n",
    "# Split into train/test\n",
    "train = df.iloc[:split_idx]\n",
    "test  = df.iloc[split_idx:]\n",
    "\n",
    "print(\"Train size:\", len(train))\n",
    "print(\"Test size:\", len(test))"
   ]
  },
  {
   "cell_type": "code",
   "execution_count": 10,
   "id": "0a8d0866-dc85-4333-a451-34ca5926b370",
   "metadata": {},
   "outputs": [],
   "source": [
    "from Trading_algos.strategy_tester import StrategyTester"
   ]
  },
  {
   "cell_type": "code",
   "execution_count": 11,
   "id": "d8945042-8696-4548-bc7a-b1b7650b33f4",
   "metadata": {},
   "outputs": [],
   "source": [
    "tester = StrategyTester(initial_capital=10000)"
   ]
  },
  {
   "cell_type": "code",
   "execution_count": null,
   "id": "c214dce7-7fcc-440b-8c83-6a1e99363e16",
   "metadata": {},
   "outputs": [
    {
     "name": "stdout",
     "output_type": "stream",
     "text": [
      "Starting backtest for FibonacciChannelStrategy\n",
      "Data period: 2020-03-25 10:30:00+00:00 to 2023-06-28 20:45:00+00:00\n",
      "Data points: 114282\n",
      "Generating trading signals...\n",
      "Running backtest simulation...\n"
     ]
    },
    {
     "name": "stderr",
     "output_type": "stream",
     "text": [
      "Backtesting:  72%|██████████▋    | 81712/114282 [00:43<00:17, 1893.07bars/s, Trades=4225, Capital=$444, Position=SHORT]"
     ]
    }
   ],
   "source": [
    "results = tester.run_backtest('FibonacciChannelStrategy', train,\n",
    "                             sensitivity=7,              # Higher sensitivity = shorter lookback\n",
    "                             stop_loss_pct=1.0,          # 1% stop loss\n",
    "                             risk_per_trade=0.015,       # Risk 1.5% per trade\n",
    "                             use_take_profits=True,\n",
    "                             tp1_pct=1, tp1_close=40, # TP1 at 0.75%, close 30%\n",
    "                             tp2_pct=2, tp2_close=30, # TP2 at 1.25%, close 30%\n",
    "                             tp3_pct=2.0,  tp3_close=20, # TP3 at 2.0%, close 25%\n",
    "                             tp4_pct=4.0,  tp4_close=10, # TP4 at 3.0%, close 15%\n",
    "                             break_even_target_pct=0.5,  # Move SL to BE after 0.5% profit\n",
    "                             verbose=True)"
   ]
  },
  {
   "cell_type": "code",
   "execution_count": null,
   "id": "5dc18580-2487-4d5a-b570-8dd800e0080b",
   "metadata": {},
   "outputs": [],
   "source": [
    "# Cell 4: View detailed metrics\n",
    "tester.display_comprehensive_metrics('SimpleMAStrategy')\n",
    "\n",
    "# Cell 5: Plot results\n",
    "#tester.plot_results('SimpleMAStrategy', results, show_plot=True)"
   ]
  },
  {
   "cell_type": "code",
   "execution_count": null,
   "id": "8abcf644-3097-4d35-8407-72360deb5c57",
   "metadata": {},
   "outputs": [],
   "source": []
  }
 ],
 "metadata": {
  "kernelspec": {
   "display_name": "Python 3 (ipykernel)",
   "language": "python",
   "name": "python3"
  },
  "language_info": {
   "codemirror_mode": {
    "name": "ipython",
    "version": 3
   },
   "file_extension": ".py",
   "mimetype": "text/x-python",
   "name": "python",
   "nbconvert_exporter": "python",
   "pygments_lexer": "ipython3",
   "version": "3.11.7"
  }
 },
 "nbformat": 4,
 "nbformat_minor": 5
}
