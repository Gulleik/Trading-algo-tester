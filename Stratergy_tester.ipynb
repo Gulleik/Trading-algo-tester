{
 "cells": [
  {
   "cell_type": "code",
   "execution_count": 9,
   "id": "6b355259-1a3b-4381-b595-53c23fefd071",
   "metadata": {},
   "outputs": [],
   "source": [
    "import pandas as pd"
   ]
  },
  {
   "cell_type": "code",
   "execution_count": 10,
   "id": "89398910-4331-473e-a575-7550d687c728",
   "metadata": {},
   "outputs": [],
   "source": [
    "BTC_15 = pd.read_csv(\"data/data/ohlcv/BTCUSDT_15m_20170208_20250830.csv\")\n",
    "ETH_15 = pd.read_csv(\"data/data/ohlcv/ETHUSDT_15m_20170208_20250830.csv\")"
   ]
  },
  {
   "cell_type": "code",
   "execution_count": 23,
   "id": "39ceea47-48f8-411e-9a43-c871cc9cc73b",
   "metadata": {},
   "outputs": [],
   "source": [
    "df = BTC_15.copy()\n",
    "df = df[df[\"timestamp\"] >= \"2025-05-03\"]"
   ]
  },
  {
   "cell_type": "code",
   "execution_count": 24,
   "id": "ff512f72-7e2f-49d6-aa68-10cfaadc5ea5",
   "metadata": {},
   "outputs": [
    {
     "name": "stdout",
     "output_type": "stream",
     "text": [
      "Train size: 11473\n",
      "Test size: 0\n"
     ]
    }
   ],
   "source": [
    "# Calculate the split index\n",
    "split_idx = int(len(df) * 1)  # first 60% train, last 40% test\n",
    "\n",
    "# Split into train/test\n",
    "train = df.iloc[:split_idx]\n",
    "test  = df.iloc[split_idx:]\n",
    "\n",
    "print(\"Train size:\", len(train))\n",
    "print(\"Test size:\", len(test))"
   ]
  },
  {
   "cell_type": "code",
   "execution_count": 25,
   "id": "774536ac-dd05-42a2-9d80-e65dc2cd05ab",
   "metadata": {},
   "outputs": [
    {
     "data": {
      "text/html": [
       "<div>\n",
       "<style scoped>\n",
       "    .dataframe tbody tr th:only-of-type {\n",
       "        vertical-align: middle;\n",
       "    }\n",
       "\n",
       "    .dataframe tbody tr th {\n",
       "        vertical-align: top;\n",
       "    }\n",
       "\n",
       "    .dataframe thead th {\n",
       "        text-align: right;\n",
       "    }\n",
       "</style>\n",
       "<table border=\"1\" class=\"dataframe\">\n",
       "  <thead>\n",
       "    <tr style=\"text-align: right;\">\n",
       "      <th></th>\n",
       "      <th>timestamp</th>\n",
       "      <th>open</th>\n",
       "      <th>high</th>\n",
       "      <th>low</th>\n",
       "      <th>close</th>\n",
       "      <th>volume</th>\n",
       "    </tr>\n",
       "  </thead>\n",
       "  <tbody>\n",
       "    <tr>\n",
       "      <th>178998</th>\n",
       "      <td>2025-05-03 00:00:00+00:00</td>\n",
       "      <td>96833.5</td>\n",
       "      <td>96865.0</td>\n",
       "      <td>96744.0</td>\n",
       "      <td>96744.1</td>\n",
       "      <td>556.163</td>\n",
       "    </tr>\n",
       "    <tr>\n",
       "      <th>178999</th>\n",
       "      <td>2025-05-03 00:15:00+00:00</td>\n",
       "      <td>96744.1</td>\n",
       "      <td>96807.3</td>\n",
       "      <td>96677.9</td>\n",
       "      <td>96679.1</td>\n",
       "      <td>172.093</td>\n",
       "    </tr>\n",
       "    <tr>\n",
       "      <th>179000</th>\n",
       "      <td>2025-05-03 00:30:00+00:00</td>\n",
       "      <td>96679.1</td>\n",
       "      <td>96739.4</td>\n",
       "      <td>96600.2</td>\n",
       "      <td>96615.7</td>\n",
       "      <td>180.141</td>\n",
       "    </tr>\n",
       "    <tr>\n",
       "      <th>179001</th>\n",
       "      <td>2025-05-03 00:45:00+00:00</td>\n",
       "      <td>96615.7</td>\n",
       "      <td>96660.1</td>\n",
       "      <td>96569.7</td>\n",
       "      <td>96647.4</td>\n",
       "      <td>245.388</td>\n",
       "    </tr>\n",
       "    <tr>\n",
       "      <th>179002</th>\n",
       "      <td>2025-05-03 01:00:00+00:00</td>\n",
       "      <td>96647.4</td>\n",
       "      <td>96665.8</td>\n",
       "      <td>96506.6</td>\n",
       "      <td>96517.6</td>\n",
       "      <td>277.167</td>\n",
       "    </tr>\n",
       "    <tr>\n",
       "      <th>...</th>\n",
       "      <td>...</td>\n",
       "      <td>...</td>\n",
       "      <td>...</td>\n",
       "      <td>...</td>\n",
       "      <td>...</td>\n",
       "      <td>...</td>\n",
       "    </tr>\n",
       "    <tr>\n",
       "      <th>190466</th>\n",
       "      <td>2025-08-30 11:00:00+00:00</td>\n",
       "      <td>108404.7</td>\n",
       "      <td>108525.8</td>\n",
       "      <td>108400.0</td>\n",
       "      <td>108508.7</td>\n",
       "      <td>135.746</td>\n",
       "    </tr>\n",
       "    <tr>\n",
       "      <th>190467</th>\n",
       "      <td>2025-08-30 11:15:00+00:00</td>\n",
       "      <td>108508.7</td>\n",
       "      <td>108534.0</td>\n",
       "      <td>108436.6</td>\n",
       "      <td>108528.8</td>\n",
       "      <td>75.874</td>\n",
       "    </tr>\n",
       "    <tr>\n",
       "      <th>190468</th>\n",
       "      <td>2025-08-30 11:30:00+00:00</td>\n",
       "      <td>108528.8</td>\n",
       "      <td>108577.5</td>\n",
       "      <td>108486.9</td>\n",
       "      <td>108571.1</td>\n",
       "      <td>177.510</td>\n",
       "    </tr>\n",
       "    <tr>\n",
       "      <th>190469</th>\n",
       "      <td>2025-08-30 11:45:00+00:00</td>\n",
       "      <td>108571.1</td>\n",
       "      <td>108707.6</td>\n",
       "      <td>108571.1</td>\n",
       "      <td>108652.3</td>\n",
       "      <td>377.543</td>\n",
       "    </tr>\n",
       "    <tr>\n",
       "      <th>190470</th>\n",
       "      <td>2025-08-30 12:00:00+00:00</td>\n",
       "      <td>108652.3</td>\n",
       "      <td>108662.1</td>\n",
       "      <td>108491.9</td>\n",
       "      <td>108492.0</td>\n",
       "      <td>65.085</td>\n",
       "    </tr>\n",
       "  </tbody>\n",
       "</table>\n",
       "<p>11473 rows × 6 columns</p>\n",
       "</div>"
      ],
      "text/plain": [
       "                        timestamp      open      high       low     close  \\\n",
       "178998  2025-05-03 00:00:00+00:00   96833.5   96865.0   96744.0   96744.1   \n",
       "178999  2025-05-03 00:15:00+00:00   96744.1   96807.3   96677.9   96679.1   \n",
       "179000  2025-05-03 00:30:00+00:00   96679.1   96739.4   96600.2   96615.7   \n",
       "179001  2025-05-03 00:45:00+00:00   96615.7   96660.1   96569.7   96647.4   \n",
       "179002  2025-05-03 01:00:00+00:00   96647.4   96665.8   96506.6   96517.6   \n",
       "...                           ...       ...       ...       ...       ...   \n",
       "190466  2025-08-30 11:00:00+00:00  108404.7  108525.8  108400.0  108508.7   \n",
       "190467  2025-08-30 11:15:00+00:00  108508.7  108534.0  108436.6  108528.8   \n",
       "190468  2025-08-30 11:30:00+00:00  108528.8  108577.5  108486.9  108571.1   \n",
       "190469  2025-08-30 11:45:00+00:00  108571.1  108707.6  108571.1  108652.3   \n",
       "190470  2025-08-30 12:00:00+00:00  108652.3  108662.1  108491.9  108492.0   \n",
       "\n",
       "         volume  \n",
       "178998  556.163  \n",
       "178999  172.093  \n",
       "179000  180.141  \n",
       "179001  245.388  \n",
       "179002  277.167  \n",
       "...         ...  \n",
       "190466  135.746  \n",
       "190467   75.874  \n",
       "190468  177.510  \n",
       "190469  377.543  \n",
       "190470   65.085  \n",
       "\n",
       "[11473 rows x 6 columns]"
      ]
     },
     "execution_count": 25,
     "metadata": {},
     "output_type": "execute_result"
    }
   ],
   "source": [
    "train"
   ]
  },
  {
   "cell_type": "code",
   "execution_count": 26,
   "id": "0a8d0866-dc85-4333-a451-34ca5926b370",
   "metadata": {},
   "outputs": [],
   "source": [
    "from Trading_algos.strategy_tester import StrategyTester"
   ]
  },
  {
   "cell_type": "code",
   "execution_count": 27,
   "id": "d8945042-8696-4548-bc7a-b1b7650b33f4",
   "metadata": {},
   "outputs": [],
   "source": [
    "tester = StrategyTester(initial_capital=10000)"
   ]
  },
  {
   "cell_type": "code",
   "execution_count": 28,
   "id": "c214dce7-7fcc-440b-8c83-6a1e99363e16",
   "metadata": {},
   "outputs": [
    {
     "name": "stdout",
     "output_type": "stream",
     "text": [
      "Starting backtest for FibonacciChannelStrategy\n",
      "Data period: 2025-05-03 00:00:00+00:00 to 2025-08-30 12:00:00+00:00\n",
      "Data points: 11473\n",
      "Generating trading signals...\n",
      "Running backtest simulation...\n"
     ]
    },
    {
     "name": "stderr",
     "output_type": "stream",
     "text": [
      "Backtesting: 100%|███████████████| 11473/11473 [00:07<00:00, 1635.35bars/s, Trades=119, Capital=$11,294, Position=FLAT]"
     ]
    },
    {
     "name": "stdout",
     "output_type": "stream",
     "text": [
      "Calculating performance metrics...\n",
      "\n",
      "🎯 BACKTEST COMPLETED SUCCESSFULLY!\n",
      "   Strategy: FibonacciChannelStrategy\n",
      "   Total Trades: 119\n",
      "   Final Return: 12.94%\n",
      "   Final Capital: $11,293.67\n",
      "   Win Rate: 62.18%\n",
      "   Profit Factor: 2.41\n",
      "   Max Drawdown: 3.87%\n",
      "   Sharpe Ratio: 0.157\n",
      "   Risk:Reward: 0.42\n",
      "   Market Exposure: 1710.18%\n",
      "   Total Fees: $599.24\n",
      "\n",
      "💡 Use display_comprehensive_metrics('FibonacciChannelStrategy') for detailed analysis\n"
     ]
    },
    {
     "name": "stderr",
     "output_type": "stream",
     "text": [
      "\n"
     ]
    }
   ],
   "source": [
    "results = tester.run_backtest(\n",
    "                            'FibonacciChannelStrategy',\n",
    "                            train,\n",
    "                            sensitivity=18,\n",
    "                            leverage=1.0,\n",
    "                            sl_percent=0,         # 1% adjustment to fib levels\n",
    "                            fixed_stop=False,       # Use fib_786 (long) / fib_236 (short)\n",
    "                            break_even_after_tp=1,  # Move to breakeven after TP2 hit\n",
    "                            use_take_profits=True,\n",
    "                            tp1_pct=1, tp1_close=40.0,\n",
    "                            tp2_pct=2, tp2_close=30.0,\n",
    "                            tp3_pct=3, tp3_close=20.0,\n",
    "                            tp4_pct=4, tp4_close=10.0,\n",
    "                            # Risk\n",
    "                            risk_per_trade=0.015,   # 1.5% risk per trade\n",
    "                            verbose=True\n",
    "                        )"
   ]
  },
  {
   "cell_type": "code",
   "execution_count": 9,
   "id": "5dc18580-2487-4d5a-b570-8dd800e0080b",
   "metadata": {},
   "outputs": [
    {
     "name": "stdout",
     "output_type": "stream",
     "text": [
      "\n",
      "📊 COMPREHENSIVE METRICS TABLE FOR FIBONACCICHANNELSTRATEGY\n",
      "====================================================================================================\n",
      "\n",
      "PERFORMANCE:\n",
      "--------------------------------------------------\n",
      "  Total Return        : -11.53%\n",
      "  Final Capital       : $8,846.98\n",
      "  Total Trades        : 186\n",
      "  Win Rate            : 55.38%\n",
      "  Profit Factor       : 1.01\n",
      "  Risk:Reward         : 0.38\n",
      "\n",
      "RISK METRICS:\n",
      "--------------------------------------------------\n",
      "  Max Drawdown        : 18.92%\n",
      "  Sharpe Ratio        : -0.079\n",
      "  Sortino Ratio       : -0.083\n",
      "  Calmar Ratio        : -160.272\n",
      "  Volatility          : 147.63%\n",
      "  VaR (95%)           : -1.48%\n",
      "\n",
      "TRADE ANALYSIS:\n",
      "--------------------------------------------------\n",
      "  Avg Win             : $38.91\n",
      "  Avg Loss            : $102.14\n",
      "  Largest Win         : $103.17\n",
      "  Largest Loss        : $-152.96\n",
      "  Max Consec Losses   : 5\n",
      "  Max Consec Wins     : 17\n",
      "\n",
      "STRATEGY BEHAVIOR:\n",
      "--------------------------------------------------\n",
      "  Trades/Day          : 1.60\n",
      "  Avg Hold Time       : 22.39h\n",
      "  Market Exposure     : 1623.27%\n",
      "  Break-even          : 8.83%\n",
      "  Total Fees          : $882.86\n",
      "  Fees %              : 997.92%\n",
      "\n",
      "====================================================================================================\n"
     ]
    }
   ],
   "source": [
    "# Cell 4: View detailed metrics\n",
    "tester.display_comprehensive_metrics('FibonacciChannelStrategy')\n",
    "\n",
    "# Cell 5: Plot results\n",
    "#tester.plot_results('SimpleMAStrategy', results, show_plot=True)"
   ]
  },
  {
   "cell_type": "code",
   "execution_count": null,
   "id": "8abcf644-3097-4d35-8407-72360deb5c57",
   "metadata": {},
   "outputs": [],
   "source": []
  }
 ],
 "metadata": {
  "kernelspec": {
   "display_name": "Python 3 (ipykernel)",
   "language": "python",
   "name": "python3"
  },
  "language_info": {
   "codemirror_mode": {
    "name": "ipython",
    "version": 3
   },
   "file_extension": ".py",
   "mimetype": "text/x-python",
   "name": "python",
   "nbconvert_exporter": "python",
   "pygments_lexer": "ipython3",
   "version": "3.11.7"
  }
 },
 "nbformat": 4,
 "nbformat_minor": 5
}
